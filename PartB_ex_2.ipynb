{
 "cells": [
  {
   "cell_type": "code",
   "execution_count": 68,
   "metadata": {},
   "outputs": [],
   "source": [
    "import random #import \"random\" module\n",
    "\n",
    "value = [1,2,3,4,5,6,7,8,9,10,11,12,13] # define the values\n",
    "suit = ['D','C','S','H'] # define the suits\n",
    "\n",
    "card_deck = [] #creates empty list where the cards would be stores\n",
    "for i in value: #iterate through values\n",
    "    for j in suit: # iterate suits\n",
    "        card_deck.append((i,j)) #adds a card to the cardholder\n",
    "\n",
    "random.shuffle(card_deck) #shuffles the card deck\n",
    "random.choice(card_deck) #picks random 1 card\n",
    "r = random.sample(card_deck,13) #picks random 13 cards form the deck\n"
   ]
  },
  {
   "cell_type": "code",
   "execution_count": 72,
   "metadata": {},
   "outputs": [
    {
     "data": {
      "text/plain": [
       "[(1, 'C'),\n",
       " (1, 'D'),\n",
       " (3, 'C'),\n",
       " (3, 'D'),\n",
       " (5, 'H'),\n",
       " (5, 'S'),\n",
       " (7, 'C'),\n",
       " (7, 'S'),\n",
       " (8, 'D'),\n",
       " (8, 'H'),\n",
       " (10, 'D'),\n",
       " (12, 'S'),\n",
       " (13, 'D')]"
      ]
     },
     "execution_count": 72,
     "metadata": {},
     "output_type": "execute_result"
    }
   ],
   "source": [
    "r.sort()\n",
    "r"
   ]
  },
  {
   "cell_type": "code",
   "execution_count": null,
   "metadata": {
    "collapsed": true
   },
   "outputs": [],
   "source": []
  }
 ],
 "metadata": {
  "kernelspec": {
   "display_name": "Python 3",
   "language": "python",
   "name": "python3"
  },
  "language_info": {
   "codemirror_mode": {
    "name": "ipython",
    "version": 3
   },
   "file_extension": ".py",
   "mimetype": "text/x-python",
   "name": "python",
   "nbconvert_exporter": "python",
   "pygments_lexer": "ipython3",
   "version": "3.6.1"
  }
 },
 "nbformat": 4,
 "nbformat_minor": 2
}
